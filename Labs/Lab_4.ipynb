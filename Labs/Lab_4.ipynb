{
 "cells": [
  {
   "cell_type": "code",
   "execution_count": 3,
   "id": "0a66844f",
   "metadata": {},
   "outputs": [
    {
     "name": "stdout",
     "output_type": "stream",
     "text": [
      "15\n"
     ]
    }
   ],
   "source": [
    "print(ord(\"Y\") % 15 + 1)"
   ]
  },
  {
   "cell_type": "code",
   "execution_count": 44,
   "id": "15859c78",
   "metadata": {},
   "outputs": [
    {
     "name": "stdout",
     "output_type": "stream",
     "text": [
      "Matrix p :\n",
      "[[1, 2], [2, 3], [4, 5]]\n",
      "Matrix q :\n",
      "[[4, 5, 1], [6, 7, 2]]\n",
      "The matrix multiplication is :\n",
      "[[16 19  5]\n",
      " [26 31  8]\n",
      " [46 55 14]]\n"
     ]
    }
   ],
   "source": [
    "#Basic matrix multiplication sample\n",
    "\n",
    "import numpy as np\n",
    "\n",
    "p = [[1, 2], [2, 3], [4, 5]]\n",
    "q = [[4, 5, 1], [6, 7, 2]]\n",
    "print(\"Matrix p :\")\n",
    "print(p)\n",
    "print(\"Matrix q :\")\n",
    "print(q)\n",
    "  \n",
    "# computing product\n",
    "result = np.dot(p, q)\n",
    "  \n",
    "print(\"The matrix multiplication is :\")\n",
    "print(result)"
   ]
  },
  {
   "cell_type": "code",
   "execution_count": 13,
   "id": "066f52f8",
   "metadata": {},
   "outputs": [
    {
     "name": "stdout",
     "output_type": "stream",
     "text": [
      "The matrix multiplication is :\n",
      "[[[16 13 16 12]\n",
      "  [10  3 11 23]\n",
      "  [17  7 14 15]]\n",
      "\n",
      " [[27 22 28 19]\n",
      "  [17  5 17 38]\n",
      "  [27 12 25 25]]\n",
      "\n",
      " [[49 40 52 33]\n",
      "  [31  9 29 68]\n",
      "  [47 22 47 45]]]\n"
     ]
    }
   ],
   "source": [
    "import numpy as np\n",
    "\n",
    "Ap = np.random.randint(0, 10, size=(3, 3, 2))\n",
    "q= np.random.randint(0, 10, size=(3, 2, 4))\n",
    "\n",
    "def multiply_matrix(array_one,array_two):\n",
    "    return np.dot(array_one, array_two)\n",
    "  \n",
    "print(\"The matrix multiplication is :\")\n",
    "print(multiply_matrix(p,q))"
   ]
  },
  {
   "cell_type": "code",
   "execution_count": 36,
   "id": "54a0f932",
   "metadata": {},
   "outputs": [
    {
     "name": "stdout",
     "output_type": "stream",
     "text": [
      "The matrix multiplication is :\n",
      "[[[[ 60  74  77]\n",
      "   [ 54  64  67]\n",
      "   [ 87  61  60]]\n",
      "\n",
      "  [[ 80 113 119]\n",
      "   [ 90 104  99]\n",
      "   [117 105 121]]\n",
      "\n",
      "  [[ 55  60  65]\n",
      "   [ 41  49  56]\n",
      "   [ 78  49  35]]]\n",
      "\n",
      "\n",
      " [[[ 70 110  95]\n",
      "   [ 84 102  95]\n",
      "   [111  71 122]]\n",
      "\n",
      "  [[ 30  53  39]\n",
      "   [ 40  50  45]\n",
      "   [ 51  25  63]]\n",
      "\n",
      "  [[ 35  77  56]\n",
      "   [ 63  77  63]\n",
      "   [ 63  42 112]]]\n",
      "\n",
      "\n",
      " [[[ 50  72  96]\n",
      "   [ 66  70  62]\n",
      "   [ 66 104  94]]\n",
      "\n",
      "  [[ 85 121 123]\n",
      "   [ 95 111 106]\n",
      "   [126 105 128]]\n",
      "\n",
      "  [[ 55 103  89]\n",
      "   [ 85 101  86]\n",
      "   [ 90  75 140]]]]\n",
      "The inverse matrix is :\n",
      "[[[[-1.48081535e-01  1.54076739e-01  1.79856115e-02]\n",
      "   [ 1.55215827e+00 -1.85791367e+00  8.27338129e-02]\n",
      "   [-1.36330935e+00  1.66546763e+00 -9.35251799e-02]]\n",
      "\n",
      "  [[-3.12656221e-02  1.68254467e-02  1.69825604e-02]\n",
      "   [-9.89816177e-03  6.06030309e-02 -3.98497422e-02]\n",
      "   [ 3.88213617e-02 -6.88586405e-02  2.64236642e-02]]\n",
      "\n",
      "  [[-6.68181818e-01  7.04545455e-01  1.13636364e-01]\n",
      "   [ 1.90454545e+00 -2.04220779e+00 -2.69480519e-01]\n",
      "   [-1.17727273e+00  1.28896104e+00  1.52597403e-01]]]\n",
      "\n",
      "\n",
      " [[[-7.36209792e-02  8.62291694e-02 -9.81785299e-03]\n",
      "   [-3.83671360e-03  2.59010464e-02 -1.71812427e-02]\n",
      "   [ 6.92158636e-02 -9.35279680e-02  2.71282780e-02]]\n",
      "\n",
      "  [[-1.74193548e-01  2.03354839e-01 -3.74193548e-02]\n",
      "   [ 1.93548387e-02  8.51612903e-03 -1.80645161e-02]\n",
      "   [ 1.33333333e-01 -1.68000000e-01  5.33333333e-02]]\n",
      "\n",
      "  [[-3.93421477e-02  4.12770074e-02 -3.54724282e-03]\n",
      "   [ 2.03160271e-02 -2.57981296e-03 -8.70686875e-03]\n",
      "   [ 1.45114479e-02 -2.22508868e-02  1.41889713e-02]]]\n",
      "\n",
      "\n",
      " [[[ 1.88679245e-03  4.59691252e-02 -3.22469983e-02]\n",
      "   [-3.01886792e-02 -2.33847913e-02  4.62550029e-02]\n",
      "   [ 3.20754717e-02 -6.40365923e-03 -1.78959405e-02]]\n",
      "\n",
      "  [[-3.53764640e-02  2.95723333e-02  9.50498236e-03]\n",
      "   [-1.37460204e-02  5.30761893e-02 -3.07446527e-02]\n",
      "   [ 4.60997391e-02 -7.26493271e-02  2.36762559e-02]]\n",
      "\n",
      "  [[-3.11128194e-02  3.13353428e-02  5.30010317e-04]\n",
      "   [ 1.68308620e-02  1.25422289e-03 -1.14700706e-02]\n",
      "   [ 1.09845650e-02 -2.08160541e-02  1.29468169e-02]]]]\n"
     ]
    }
   ],
   "source": [
    "import numpy as np\n",
    "\n",
    "p = np.random.randint(0, 10, size=(3, 3, 3))\n",
    "q= np.random.randint(0, 10, size=(3, 3, 3))\n",
    "\n",
    "def multiply_matrix(array_one,array_two):\n",
    "    return np.dot(array_one, array_two)\n",
    "\n",
    "new_matrix = multiply_matrix(p,q)\n",
    "\n",
    "def inverse_matrix(inverse_matrix):\n",
    "    return np.linalg.inv(inverse_matrix)\n",
    "\n",
    "print(\"The matrix multiplication is :\")\n",
    "print(new_matrix)\n",
    "\n",
    "print(\"The inverse matrix is :\")\n",
    "print(inverse_matrix(new_matrix))\n"
   ]
  },
  {
   "cell_type": "code",
   "execution_count": 39,
   "id": "00d0c40a",
   "metadata": {},
   "outputs": [
    {
     "name": "stdout",
     "output_type": "stream",
     "text": [
      "Result 1:\n",
      " [[[-1.4375     -0.625      -0.4375    ]\n",
      "  [ 2.625       4.75        0.625     ]\n",
      "  [-0.6875     -5.125       0.3125    ]]\n",
      "\n",
      " [[ 0.1         0.5625      0.05      ]\n",
      "  [ 0.6         0.25       -0.2       ]\n",
      "  [ 0.55       -0.03125     0.775     ]]\n",
      "\n",
      " [[ 0.62962963  0.31746032  0.18518519]\n",
      "  [ 0.03703704  0.82539683 -0.51851852]\n",
      "  [ 0.25925926 -0.22222222  0.37037037]]]\n",
      "Result 2:\n",
      " [[[-1.4375     -0.625      -0.4375    ]\n",
      "  [ 2.625       4.75        0.625     ]\n",
      "  [-0.6875     -5.125       0.3125    ]]\n",
      "\n",
      " [[ 0.1         0.5625      0.05      ]\n",
      "  [ 0.6         0.25       -0.2       ]\n",
      "  [ 0.55       -0.03125     0.775     ]]\n",
      "\n",
      " [[ 0.62962963  0.31746032  0.18518519]\n",
      "  [ 0.03703704  0.82539683 -0.51851852]\n",
      "  [ 0.25925926 -0.22222222  0.37037037]]]\n",
      "The results are equal.\n"
     ]
    }
   ],
   "source": [
    "import numpy as np\n",
    "\n",
    "p = np.random.randint(0, 10, size=(3, 3, 3))\n",
    "q = np.random.randint(0, 10, size=(3, 3, 3))\n",
    "inverse = np.array([[6, 1, 1], [4, -2, 5], [2, 8, 7]])\n",
    "\n",
    "def multiply_matrix(array_one, array_two):\n",
    "    return np.dot(array_one, array_two)\n",
    "\n",
    "def inverse_matrix(inverse_matrix):\n",
    "    return np.linalg.inv(inverse_matrix)\n",
    "\n",
    "def solve_matrix(p, q):\n",
    "    return np.linalg.solve(p, q)\n",
    "\n",
    "result1 = solve_matrix(p, q)\n",
    "result2 = np.matmul(np.linalg.inv(p), q)\n",
    "\n",
    "print(\"Result 1:\\n\", result1)\n",
    "print(\"Result 2:\\n\", result2)\n",
    "\n",
    "if np.allclose(result1, result2):\n",
    "    print(\"The results are equal.\")\n",
    "else:\n",
    "    print(\"The results are not equal.\")\n"
   ]
  },
  {
   "cell_type": "code",
   "execution_count": 43,
   "id": "b1c38751",
   "metadata": {},
   "outputs": [
    {
     "name": "stdout",
     "output_type": "stream",
     "text": [
      "The solution matrix is:\n",
      " [[ 0.01216686 -0.98783314  0.19640788  0.72769409]\n",
      " [ 0.13383546  1.13383546  0.16048667  0.00463499]\n",
      " [ 0.05214368  0.05214368  0.12746234 -0.59559676]\n",
      " [ 0.53418308  0.53418308  0.19466976  0.85399768]]\n"
     ]
    }
   ],
   "source": [
    "#Task 15 (1, 3, 6, 8, 13, 15, 16, 18, 20)\n",
    "\n",
    "import numpy as np\n",
    "\n",
    "p = np.array([[1, 3, 6, 8], [13, 15, 16, 0], [18, 20, 2, 0],[2, 6, 2, 2]])\n",
    "q = np.array([[5, 7, 3, 4], [3, 5, 7, 0], [3, 5, 7, 12], [2, 6, 2, 2]])\n",
    "\n",
    "x = np.linalg.solve(p, q)\n",
    "\n",
    "print(\"The solution matrix is:\\n\", x)\n"
   ]
  },
  {
   "cell_type": "code",
   "execution_count": 68,
   "id": "a959ee7c",
   "metadata": {},
   "outputs": [
    {
     "name": "stdout",
     "output_type": "stream",
     "text": [
      "[[1 0 0 0 0]\n",
      " [0 2 0 0 0]\n",
      " [0 0 3 0 0]\n",
      " [0 0 0 4 0]\n",
      " [0 0 0 0 5]]\n"
     ]
    }
   ],
   "source": [
    "import numpy as np\n",
    "\n",
    "def task_1(n):\n",
    "    arr = np.zeros((n, n), dtype=int)\n",
    "    for i in range(n):\n",
    "        arr[i, i] = i+1\n",
    "    return arr\n",
    "\n",
    "print(task_1(5))"
   ]
  },
  {
   "cell_type": "code",
   "execution_count": 72,
   "id": "2e90195c",
   "metadata": {},
   "outputs": [
    {
     "name": "stdout",
     "output_type": "stream",
     "text": [
      "[[0 1 0 1 0 1 0 1 0 1]\n",
      " [1 0 1 0 1 0 1 0 1 0]\n",
      " [0 1 0 1 0 1 0 1 0 1]\n",
      " [1 0 1 0 1 0 1 0 1 0]\n",
      " [0 1 0 1 0 1 0 1 0 1]\n",
      " [1 0 1 0 1 0 1 0 1 0]\n",
      " [0 1 0 1 0 1 0 1 0 1]\n",
      " [1 0 1 0 1 0 1 0 1 0]\n",
      " [0 1 0 1 0 1 0 1 0 1]\n",
      " [1 0 1 0 1 0 1 0 1 0]]\n"
     ]
    }
   ],
   "source": [
    "import numpy as np\n",
    "\n",
    "def task_2(n):\n",
    "    arr = np.zeros((n, n), dtype=int)\n",
    "    for i in range(n):\n",
    "        for j in range(n):\n",
    "            if (i+j) % 2 == 0:\n",
    "                arr[i, j] = 0\n",
    "            else:\n",
    "                arr[i, j] = 1\n",
    "    return arr\n",
    "\n",
    "print(task_2(10))"
   ]
  },
  {
   "cell_type": "code",
   "execution_count": 98,
   "id": "9e63c895",
   "metadata": {},
   "outputs": [
    {
     "name": "stdout",
     "output_type": "stream",
     "text": [
      "[[0 0 0 0 0 0 0]\n",
      " [1 1 0 1 1 1 1]\n",
      " [0 0 0 0 0 0 0]\n",
      " [1 1 0 1 1 1 1]\n",
      " [0 0 0 0 0 0 0]\n",
      " [1 1 0 1 1 1 1]]\n"
     ]
    }
   ],
   "source": [
    "import numpy as np\n",
    "\n",
    "def task_3(n, m, r, c):\n",
    "    arr = np.ones((n, m), dtype=int)\n",
    "    for i in range(n):\n",
    "        if i %r== 0:\n",
    "            arr[i, :] = 0\n",
    "        arr[i, c - 1] = 0\n",
    "    return arr\n",
    "\n",
    "print(task_3(6,7,2,3))"
   ]
  },
  {
   "cell_type": "code",
   "execution_count": 107,
   "id": "f877e359",
   "metadata": {},
   "outputs": [
    {
     "name": "stdout",
     "output_type": "stream",
     "text": [
      "[[0 1 2]\n",
      " [0 0 0]\n",
      " [0 0 0]\n",
      " [0 0 0]]\n"
     ]
    }
   ],
   "source": [
    "import numpy as np\n",
    "\n",
    "def task_4(n, m):\n",
    "    arr = np.zeros((m, n), dtype=int)\n",
    "    arr[0] = np.arange(n)\n",
    "    return arr\n",
    "\n",
    "print(task_4(3,4))"
   ]
  },
  {
   "cell_type": "code",
   "execution_count": 119,
   "id": "cd729697",
   "metadata": {},
   "outputs": [
    {
     "name": "stdout",
     "output_type": "stream",
     "text": [
      "[[1 1 1 1 1]\n",
      " [0 0 0 0 0]\n",
      " [1 1 1 1 1]\n",
      " [0 0 0 0 0]\n",
      " [1 1 1 1 1]]\n"
     ]
    }
   ],
   "source": [
    "import numpy as np\n",
    "\n",
    "def task_5(n):\n",
    "    arr = np.zeros((n, n), dtype=int)\n",
    "    arr[::2] = 1\n",
    "    return arr\n",
    "\n",
    "print(task_5(5))"
   ]
  },
  {
   "cell_type": "code",
   "execution_count": 122,
   "id": "6af0d618",
   "metadata": {},
   "outputs": [
    {
     "name": "stdout",
     "output_type": "stream",
     "text": [
      "Enter numbers : 3 4 0 9 7 0 6 0 4 0 3\n",
      "[-1 -1  0 -1 -1  0 -1  0 -1  0 -1]\n"
     ]
    }
   ],
   "source": [
    "import numpy as np\n",
    "\n",
    "def task_6():\n",
    "    input_str = input(\"Enter numbers : \")\n",
    "    values_str = input_str.strip().split()\n",
    "\n",
    "    values = [int(x) for x in values_str]\n",
    "    arr = np.array(values)\n",
    "\n",
    "    # here i replace non-zero elements with -1\n",
    "    arr[arr != 0] = -1\n",
    "\n",
    "    return arr\n",
    "\n",
    "print(task_6())"
   ]
  },
  {
   "cell_type": "code",
   "execution_count": 134,
   "id": "b354a231",
   "metadata": {},
   "outputs": [
    {
     "name": "stdout",
     "output_type": "stream",
     "text": [
      "Enter numbers : 3 4 0 9 8 2 4 0 8 4 0\n",
      "zeros : 3\n",
      "Non_zeros : 8\n"
     ]
    }
   ],
   "source": [
    "import numpy as np\n",
    "\n",
    "def task_8():\n",
    "    zeros=0\n",
    "    Non_zeros=0\n",
    "    input_str = input(\"Enter numbers : \")\n",
    "    values_str = input_str.strip().split()\n",
    "\n",
    "    values = [int(x) for x in values_str]\n",
    "    arr = np.array(values)\n",
    "\n",
    "    for i in arr:\n",
    "        if i == 0:\n",
    "            zeros+=1\n",
    "        else:\n",
    "            Non_zeros+=1\n",
    "    print(\"Zeros : \"+ str(zeros))\n",
    "    print(\"Non_zeros : \"+  str(Non_zeros))\n",
    "\n",
    "task_8()"
   ]
  },
  {
   "cell_type": "code",
   "execution_count": 135,
   "id": "f59d0104",
   "metadata": {},
   "outputs": [
    {
     "name": "stdout",
     "output_type": "stream",
     "text": [
      "[10  9  8  7  6  5  4  3  2  1  0]\n"
     ]
    }
   ],
   "source": [
    "import numpy as np\n",
    "\n",
    "def task_9(n):\n",
    "    arr = np.arange(n, -1, -1)\n",
    "    print(arr)\n",
    "\n",
    "task_9(10)"
   ]
  },
  {
   "cell_type": "code",
   "execution_count": 208,
   "id": "cf87557c",
   "metadata": {},
   "outputs": [
    {
     "name": "stdout",
     "output_type": "stream",
     "text": [
      "Minimum value: 0.023\n",
      "Maximum value: 0.999\n",
      "Mean: 0.513\n",
      "Standard deviation: 0.24\n",
      "4 5\n",
      "minimum: 0.126\n",
      "maksimum: 0.968\n",
      "mean: 0.522\n",
      "deviation: 0.265\n"
     ]
    }
   ],
   "source": [
    "import numpy as np\n",
    "\n",
    "\n",
    "def task_10(n,m):\n",
    "    arr = np.random.rand(n, m)\n",
    "    arr_min = np.min(arr)\n",
    "    arr_max = np.max(arr)\n",
    "    arr_mean = np.mean(arr)\n",
    "    arr_std = np.std(arr)\n",
    "    \n",
    "    print(\"Minimum value:\", round(arr_min, 3))\n",
    "    print(\"Maximum value:\", round(arr_max, 3))\n",
    "    print(\"Mean:\", round(arr_mean, 3))\n",
    "    print(\"Standard deviation:\", round(arr_std, 3))\n",
    "    \n",
    "task_10(4,5)"
   ]
  },
  {
   "cell_type": "code",
   "execution_count": 212,
   "id": "64f571f2",
   "metadata": {},
   "outputs": [
    {
     "data": {
      "text/plain": [
       "array([[0, 0, 0, 0, 0, 0, 0, 0, 0, 0, 0, 0],\n",
       "       [0, 1, 1, 1, 1, 1, 1, 1, 1, 1, 1, 0],\n",
       "       [0, 1, 1, 1, 1, 1, 1, 1, 1, 1, 1, 0],\n",
       "       [0, 1, 1, 1, 1, 1, 1, 1, 1, 1, 1, 0],\n",
       "       [0, 1, 1, 1, 1, 1, 1, 1, 1, 1, 1, 0],\n",
       "       [0, 1, 1, 1, 1, 1, 1, 1, 1, 1, 1, 0],\n",
       "       [0, 1, 1, 1, 1, 1, 1, 1, 1, 1, 1, 0],\n",
       "       [0, 1, 1, 1, 1, 1, 1, 1, 1, 1, 1, 0],\n",
       "       [0, 1, 1, 1, 1, 1, 1, 1, 1, 1, 1, 0],\n",
       "       [0, 1, 1, 1, 1, 1, 1, 1, 1, 1, 1, 0],\n",
       "       [0, 1, 1, 1, 1, 1, 1, 1, 1, 1, 1, 0],\n",
       "       [0, 0, 0, 0, 0, 0, 0, 0, 0, 0, 0, 0]])"
      ]
     },
     "execution_count": 212,
     "metadata": {},
     "output_type": "execute_result"
    }
   ],
   "source": [
    "import numpy as np\n",
    "\n",
    "\n",
    "def task_11(n):\n",
    "    arr = np.ones((n, n), dtype=int)\n",
    "    \n",
    "    arr[0,:] = 0\n",
    "    arr[-1,:] = 0\n",
    "    arr[:,0] = 0\n",
    "    arr[:,-1] = 0\n",
    "    \n",
    "    return arr\n",
    "    \n",
    "task_11(12)\n",
    "    "
   ]
  },
  {
   "cell_type": "code",
   "execution_count": 231,
   "id": "a74d18de",
   "metadata": {},
   "outputs": [
    {
     "data": {
      "text/plain": [
       "array([[0., 0., 0., 0.],\n",
       "       [0., 1., 1., 0.],\n",
       "       [0., 1., 1., 0.],\n",
       "       [0., 0., 0., 0.]])"
      ]
     },
     "execution_count": 231,
     "metadata": {},
     "output_type": "execute_result"
    }
   ],
   "source": [
    "import numpy as np\n",
    "\n",
    "\n",
    "def task_12(n):\n",
    "    arr = np.ones((n, n))\n",
    "    \n",
    "    arr[0,:] = 0.\n",
    "    arr[-1,:] = 0.\n",
    "    arr[:,0] = 0.\n",
    "    arr[:,-1] = 0.\n",
    "    return arr\n",
    "    \n",
    "task_12(4)\n",
    "    "
   ]
  },
  {
   "cell_type": "code",
   "execution_count": 235,
   "id": "ff99fbf9",
   "metadata": {},
   "outputs": [
    {
     "data": {
      "text/plain": [
       "array([[0, 1, 0, 1, 0, 1, 0, 1],\n",
       "       [1, 0, 1, 0, 1, 0, 1, 0],\n",
       "       [0, 1, 0, 1, 0, 1, 0, 1],\n",
       "       [1, 0, 1, 0, 1, 0, 1, 0],\n",
       "       [0, 1, 0, 1, 0, 1, 0, 1],\n",
       "       [1, 0, 1, 0, 1, 0, 1, 0],\n",
       "       [0, 1, 0, 1, 0, 1, 0, 1],\n",
       "       [1, 0, 1, 0, 1, 0, 1, 0]])"
      ]
     },
     "execution_count": 235,
     "metadata": {},
     "output_type": "execute_result"
    }
   ],
   "source": [
    "import numpy as np\n",
    "\n",
    "\n",
    "def task_13(n):\n",
    "    arr = np.zeros((n, n), dtype=int)\n",
    "    arr[::2, ::2] = 0\n",
    "    arr[1::2, 1::2] = 0\n",
    "    arr[1::2, ::2] = 1\n",
    "    arr[::2, 1::2] = 1\n",
    "    return arr\n",
    "    \n",
    "task_13(8)\n",
    "    "
   ]
  },
  {
   "cell_type": "code",
   "execution_count": 242,
   "id": "33548d6d",
   "metadata": {},
   "outputs": [
    {
     "data": {
      "text/plain": [
       "array([[0, 1, 0, 1, 0, 1, 0, 1],\n",
       "       [1, 0, 1, 0, 1, 0, 1, 0],\n",
       "       [0, 1, 0, 1, 0, 1, 0, 1],\n",
       "       [1, 0, 1, 0, 1, 0, 1, 0]])"
      ]
     },
     "execution_count": 242,
     "metadata": {},
     "output_type": "execute_result"
    }
   ],
   "source": [
    "import numpy as np\n",
    "\n",
    "\n",
    "def task_14(n):\n",
    "    tile = np.array([[0, 1], [1, 0]])\n",
    "    arr = np.tile(tile, (n//2, n//2))\n",
    "    if n % 2 != 0:\n",
    "        arr = np.pad(arr, ((0, 1), (0, 1)), null, null)\n",
    "    return arr\n",
    "    \n",
    "task_14(8)\n",
    "    "
   ]
  },
  {
   "cell_type": "code",
   "execution_count": 246,
   "id": "c5c6c09c",
   "metadata": {},
   "outputs": [
    {
     "data": {
      "text/plain": [
       "array([[0, 1, 0, 1, 0],\n",
       "       [0, 0, 0, 0, 0],\n",
       "       [0, 1, 0, 1, 0],\n",
       "       [0, 0, 0, 0, 0],\n",
       "       [0, 1, 0, 1, 0]])"
      ]
     },
     "execution_count": 246,
     "metadata": {},
     "output_type": "execute_result"
    }
   ],
   "source": [
    "import numpy as np\n",
    "\n",
    "\n",
    "def task_15(n):\n",
    "    arr = np.zeros((n, n), dtype=int)\n",
    "    for i in range(n):\n",
    "        for j in range(n):\n",
    "            if j % 2 == 0:\n",
    "                arr[i, j] = 0\n",
    "            else:\n",
    "                arr[i, j] = 1 if i % 2 == 0 else 0\n",
    "    \n",
    "    return arr\n",
    "    \n",
    "task_15(5)\n",
    "    "
   ]
  },
  {
   "cell_type": "code",
   "execution_count": 323,
   "id": "d13967ab",
   "metadata": {},
   "outputs": [
    {
     "name": "stdout",
     "output_type": "stream",
     "text": [
      "5.5\n",
      "8.25\n",
      "[0, 1, 2, 3, 4, 5, 0, 0, 0, 9, 10]\n"
     ]
    }
   ],
   "source": [
    "import numpy as np\n",
    "\n",
    "\n",
    "def task_16(n):\n",
    "    n = n+1\n",
    "    half_n = float(n/2)\n",
    "    multiple_n = float(3*n/4)\n",
    "    vector = list(range(n))\n",
    "    print(half_n)\n",
    "    print(multiple_n)\n",
    "    for i in range(n):\n",
    "        if half_n < vector[i] < multiple_n:\n",
    "            vector[i] = 0            \n",
    "    return vector\n",
    "    \n",
    "print(task_16(10))\n",
    "    "
   ]
  },
  {
   "cell_type": "code",
   "execution_count": 324,
   "id": "ea37bc91",
   "metadata": {},
   "outputs": [
    {
     "data": {
      "text/plain": [
       "array([  0,  -1,  -2,  -3,  -4,   5,   6,   7,  -8,  -9, -10])"
      ]
     },
     "execution_count": 324,
     "metadata": {},
     "output_type": "execute_result"
    }
   ],
   "source": [
    "def task_17(n):\n",
    "    vector = np.arange(n+1)\n",
    "    for i in range(n+1):\n",
    "        if vector[i] < n/2 or vector[i] > 3*n/4:\n",
    "            vector[i] *= -1\n",
    "    return vector\n",
    "task_17(10)"
   ]
  },
  {
   "cell_type": "code",
   "execution_count": 334,
   "id": "db17887d",
   "metadata": {},
   "outputs": [
    {
     "name": "stdout",
     "output_type": "stream",
     "text": [
      "In vector [26 92 27 54 17 42 83 27 52 44 54 71 83 64 57 28  9 44 71 17 16 18 42 34\n",
      " 97 89 99  1 68 51] there are 23 unique numbers\n"
     ]
    }
   ],
   "source": [
    "import numpy as np\n",
    "\n",
    "def task_18(n):\n",
    "    vector = np.random.randint(0, 100, n)\n",
    "    unique_elements = len(set(vector))\n",
    "    print(f\"In vector {vector} there are {unique_elements} unique numbers\")\n",
    "\n",
    "task_18(30)\n"
   ]
  },
  {
   "cell_type": "code",
   "execution_count": 356,
   "id": "ac730fa8",
   "metadata": {},
   "outputs": [
    {
     "name": "stdout",
     "output_type": "stream",
     "text": [
      "[0.091 0.182 0.273 0.364 0.455 0.545 0.636 0.727 0.818 0.909]\n"
     ]
    }
   ],
   "source": [
    "import numpy as np\n",
    "\n",
    "def task_19(n):\n",
    "    vector = np.linspace(0.091, 0.909, n)\n",
    "    rounded_vector = np.around(vector, 3)\n",
    "    print(rounded_vector)\n",
    "\n",
    "task_19(10)\n"
   ]
  },
  {
   "cell_type": "code",
   "execution_count": 366,
   "id": "50dfd1e9",
   "metadata": {},
   "outputs": [
    {
     "name": "stdout",
     "output_type": "stream",
     "text": [
      "Initial vector [0.69177442 0.26618159 0.57798633 0.63215074 0.50954235]\n",
      "Modified vector [0.         0.26618159 0.57798633 0.63215074 0.50954235]\n"
     ]
    }
   ],
   "source": [
    "import numpy as np\n",
    "\n",
    "def task_20(n):\n",
    "    vector = np.random.rand(n)\n",
    "    print(f\"Initial vector {vector}\")\n",
    "    max_index = np.argmax(vector)\n",
    "    vector[max_index] = 0\n",
    "    print(f\"Modified vector {vector}\")\n",
    "\n",
    "task_20(5)\n"
   ]
  },
  {
   "cell_type": "code",
   "execution_count": 394,
   "id": "14b4a0e3",
   "metadata": {},
   "outputs": [
    {
     "name": "stdout",
     "output_type": "stream",
     "text": [
      "Initial vector:\n",
      "[[10  9  7  0]\n",
      " [ 2  0  6  2]\n",
      " [ 8  3 10  9]\n",
      " [ 0  2  2  4]]\n",
      "Modified vector:\n",
      "[[-10   9   7   0]\n",
      " [  2   0   6   2]\n",
      " [  8   3 -10   9]\n",
      " [  0   2   2   4]]\n"
     ]
    }
   ],
   "source": [
    "import numpy as np\n",
    "\n",
    "def task_21(n,m):\n",
    "    vector = np.random.randint(0, m+1, size=(n,n))\n",
    "    print(\"Initial vector:\")\n",
    "    print(vector)\n",
    "    max_val = np.max(vector)\n",
    "    max_indices = np.argwhere(vector == max_val)\n",
    "    for idx in max_indices:\n",
    "        vector[idx[0], idx[1]] = -max_val\n",
    "    print(\"Modified vector:\")\n",
    "    print(vector)\n",
    "\n",
    "task_21(4,10)\n"
   ]
  },
  {
   "cell_type": "code",
   "execution_count": null,
   "id": "91f60265",
   "metadata": {},
   "outputs": [],
   "source": []
  }
 ],
 "metadata": {
  "kernelspec": {
   "display_name": "Python 3 (ipykernel)",
   "language": "python",
   "name": "python3"
  },
  "language_info": {
   "codemirror_mode": {
    "name": "ipython",
    "version": 3
   },
   "file_extension": ".py",
   "mimetype": "text/x-python",
   "name": "python",
   "nbconvert_exporter": "python",
   "pygments_lexer": "ipython3",
   "version": "3.9.13"
  }
 },
 "nbformat": 4,
 "nbformat_minor": 5
}
