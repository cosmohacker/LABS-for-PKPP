{
 "cells": [
  {
   "cell_type": "code",
   "execution_count": 1,
   "id": "1eb42c9f",
   "metadata": {},
   "outputs": [
    {
     "name": "stdout",
     "output_type": "stream",
     "text": [
      "3\n"
     ]
    }
   ],
   "source": [
    "print(ord(\"Y\") % 3 + 1)"
   ]
  },
  {
   "cell_type": "code",
   "execution_count": 18,
   "id": "314311de",
   "metadata": {},
   "outputs": [
    {
     "name": "stdout",
     "output_type": "stream",
     "text": [
      "\n",
      "Sample 1:\n",
      " \n",
      "2 3\n",
      "x = 2, y = 3\n"
     ]
    }
   ],
   "source": [
    "class Point:\n",
    "    def __init__(self, x, y):\n",
    "        self.x = x\n",
    "        self.y = y\n",
    "\n",
    "    def __str__(self):\n",
    "        return f\"x = {self.x}, y = {self.y}\"\n",
    "    \n",
    "print(\"\\nSample 1:\\n \")\n",
    "a = Point(2,3)\n",
    "print(a.x, a.y)\n",
    "print(a)\n"
   ]
  },
  {
   "cell_type": "code",
   "execution_count": 17,
   "id": "7ff6bfe9",
   "metadata": {},
   "outputs": [
    {
     "name": "stdout",
     "output_type": "stream",
     "text": [
      "\n",
      "Sample 2:\n",
      " \n",
      "y = k * 3 + 3\n",
      "y = k * 2 + 5\n",
      "\n",
      "Sample 3:\n",
      " \n",
      "x = 2.0, y = 9.0\n",
      "\n",
      "Sample 4:\n",
      " \n",
      "None\n",
      "y = k * 2 + 3\n",
      "y = k * 2 + 5\n"
     ]
    }
   ],
   "source": [
    "class Line:\n",
    "    def __init__(self, k, b):\n",
    "        self.k = k\n",
    "        self.b = b\n",
    "\n",
    "    def __str__(self):\n",
    "        return f\"y = k * {self.k} + {self.b}\"\n",
    "\n",
    "    def intersection(self, other):\n",
    "        if self.k == other.k and self.b == other.b:\n",
    "            return None\n",
    "        elif self.k == other.k:\n",
    "            return None\n",
    "        else:\n",
    "            x = (other.b - self.b) / (self.k - other.k)\n",
    "            y = self.k * x + self.b\n",
    "            return Point(x, y)\n",
    "        \n",
    "print(\"\\nSample 2:\\n \")\n",
    "line1 = Line(3,3)\n",
    "line2 = Line(2,5)\n",
    "print(line1)\n",
    "print(line2)\n",
    "print(\"\\nSample 3:\\n \")\n",
    "line1 = Line(3,3)\n",
    "line2 = Line(2,5)\n",
    "print(line1.intersection(line2))\n",
    "print(\"\\nSample 4:\\n \")\n",
    "line1 = Line(2,3)\n",
    "line2 = Line(2,5)\n",
    "print(line1.intersection(line2))\n",
    "print(line1)\n",
    "print(line2)"
   ]
  },
  {
   "cell_type": "code",
   "execution_count": 11,
   "id": "4ffd027f",
   "metadata": {},
   "outputs": [
    {
     "name": "stdout",
     "output_type": "stream",
     "text": [
      "A = (-3, 6), B = (-3, 2), C = (3, 2)\n",
      "12.0\n",
      "17.211\n"
     ]
    }
   ],
   "source": [
    "class WrongDataError(Exception):\n",
    "    def __init__(self, message=\"This points create a degenerate triangle\"):\n",
    "        self.message = message\n",
    "        super().__init__(self.message)\n",
    "\n",
    "class MissingParameterError(Exception):\n",
    "    def __init__(self, message=\"Missing parameter\"):\n",
    "        self.message = message\n",
    "        super().__init__(self.message)\n",
    "        \n",
    "class Point:\n",
    "    def __init__(self, x, y):\n",
    "        self.x = x\n",
    "        self.y = y\n",
    "\n",
    "    def __str__(self):\n",
    "        return f\"{self.x}, {self.y}\"\n",
    "\n",
    "class Triangle:\n",
    "    def __init__(self, point1, point2, point3):\n",
    "        self.vertices = [point1, point2, point3]\n",
    "        if len(self.vertices) != 3:\n",
    "            raise MissingParameterError()\n",
    "        self.side_a = ((self.vertices[1].x - self.vertices[0].x) ** 2 + (self.vertices[1].y - self.vertices[0].y) ** 2) ** 0.5\n",
    "        self.side_b = ((self.vertices[2].x - self.vertices[1].x) ** 2 + (self.vertices[2].y - self.vertices[1].y) ** 2) ** 0.5\n",
    "        self.side_c = ((self.vertices[0].x - self.vertices[2].x) ** 2 + (self.vertices[0].y - self.vertices[2].y) ** 2) ** 0.5\n",
    "\n",
    "        if (self.side_a + self.side_b <= self.side_c) or (self.side_b + self.side_c <= self.side_a) or (self.side_c + self.side_a <= self.side_b):\n",
    "            raise WrongDataError()\n",
    "\n",
    "    def area(self):\n",
    "        s = (self.side_a + self.side_b + self.side_c) / 2\n",
    "        area = (s * (s - self.side_a) * (s - self.side_b) * (s - self.side_c)) ** 0.5\n",
    "        return round(area, 1)\n",
    "\n",
    "    def perimeter(self):\n",
    "        return round(self.side_a + self.side_b + self.side_c, 3)\n",
    "\n",
    "    def __str__(self):\n",
    "        return f\"A = ({self.vertices[0]}), B = ({self.vertices[1]}), C = ({self.vertices[2]})\"\n",
    "\n",
    "    \n",
    "triangle = Triangle(Point(-3, 6), Point(-3, 2), Point(3, 2))\n",
    "print(triangle)\n",
    "print(triangle.area())\n",
    "print(triangle.perimeter())\n",
    "\n",
    "#triangle = Triangle(Point(-3, 6), Point(-3, 2))\n",
    "\n",
    "#triangle = Triangle(Point(-3, 6), Point(-3, 2), Point(-3,2))\n",
    "\n"
   ]
  },
  {
   "cell_type": "code",
   "execution_count": null,
   "id": "6cc1626d",
   "metadata": {},
   "outputs": [],
   "source": []
  }
 ],
 "metadata": {
  "kernelspec": {
   "display_name": "Python 3 (ipykernel)",
   "language": "python",
   "name": "python3"
  },
  "language_info": {
   "codemirror_mode": {
    "name": "ipython",
    "version": 3
   },
   "file_extension": ".py",
   "mimetype": "text/x-python",
   "name": "python",
   "nbconvert_exporter": "python",
   "pygments_lexer": "ipython3",
   "version": "3.9.13"
  }
 },
 "nbformat": 4,
 "nbformat_minor": 5
}
