{
 "cells": [
  {
   "cell_type": "code",
   "execution_count": 6,
   "id": "dc7869fc",
   "metadata": {},
   "outputs": [
    {
     "name": "stdout",
     "output_type": "stream",
     "text": [
      "10\n"
     ]
    }
   ],
   "source": [
    "print(ord(\"Y\") % 10 + 1,)"
   ]
  },
  {
   "cell_type": "code",
   "execution_count": 8,
   "id": "aca165e4",
   "metadata": {},
   "outputs": [
    {
     "name": "stdout",
     "output_type": "stream",
     "text": [
      "3^2+6^2=45\n",
      "The number 21 cannot be expressed as squares of integers.\n",
      "The number 36 cannot be expressed as squares of integers.\n",
      "The number 95 cannot be expressed as squares of integers.\n",
      "The number 121 cannot be expressed as squares of integers.\n",
      "1^2+4^2=17\n"
     ]
    }
   ],
   "source": [
    "def task_10(number):\n",
    "    for a in range(1, int(number ** 0.5) + 1):\n",
    "        for b in range(a, int(number ** 0.5) + 1):\n",
    "            if a ** 2 + b ** 2 == number:\n",
    "                return f'{a}^2+{b}^2={number}'\n",
    "    return f'The number {number} cannot be expressed as squares of integers.'\n",
    "\n",
    "print(task_10(45))\n",
    "print(task_10(21))\n",
    "print(task_10(36))\n",
    "print(task_10(95))\n",
    "print(task_10(121))\n",
    "print(task_10(17))\n"
   ]
  },
  {
   "cell_type": "code",
   "execution_count": null,
   "id": "7b819099",
   "metadata": {},
   "outputs": [],
   "source": []
  }
 ],
 "metadata": {
  "kernelspec": {
   "display_name": "Python 3 (ipykernel)",
   "language": "python",
   "name": "python3"
  },
  "language_info": {
   "codemirror_mode": {
    "name": "ipython",
    "version": 3
   },
   "file_extension": ".py",
   "mimetype": "text/x-python",
   "name": "python",
   "nbconvert_exporter": "python",
   "pygments_lexer": "ipython3",
   "version": "3.9.13"
  }
 },
 "nbformat": 4,
 "nbformat_minor": 5
}
